{
 "cells": [
  {
   "cell_type": "markdown",
   "metadata": {},
   "source": [
    "# Bitcoin - Regression\n",
    "\n",
    "Examine bitcoin prices and see if we can predict the value."
   ]
  },
  {
   "cell_type": "markdown",
   "metadata": {},
   "source": [
    "### Importing required libraries"
   ]
  },
  {
   "cell_type": "code",
   "execution_count": 34,
   "metadata": {},
   "outputs": [],
   "source": [
    "# importing required libraries\n",
    "%matplotlib inline\n",
    "import matplotlib.pyplot as plt\n",
    "import numpy as np\n",
    "import pandas as pd\n",
    "from sklearn.model_selection import train_test_split\n",
    "from sklearn.pipeline import Pipeline\n",
    "from sklearn.preprocessing import StandardScaler\n",
    "from sklearn.linear_model import LinearRegression\n",
    "from sklearn.ensemble import RandomForestRegressor"
   ]
  },
  {
   "cell_type": "code",
   "execution_count": 35,
   "metadata": {},
   "outputs": [
    {
     "name": "stdout",
     "output_type": "stream",
     "text": [
      "Wall time: 1.75 s\n"
     ]
    },
    {
     "data": {
      "text/html": [
       "<div>\n",
       "<style scoped>\n",
       "    .dataframe tbody tr th:only-of-type {\n",
       "        vertical-align: middle;\n",
       "    }\n",
       "\n",
       "    .dataframe tbody tr th {\n",
       "        vertical-align: top;\n",
       "    }\n",
       "\n",
       "    .dataframe thead th {\n",
       "        text-align: right;\n",
       "    }\n",
       "</style>\n",
       "<table border=\"1\" class=\"dataframe\">\n",
       "  <thead>\n",
       "    <tr style=\"text-align: right;\">\n",
       "      <th></th>\n",
       "      <th>Timestamp</th>\n",
       "      <th>Open</th>\n",
       "      <th>High</th>\n",
       "      <th>Low</th>\n",
       "      <th>Close</th>\n",
       "      <th>Volume_(BTC)</th>\n",
       "      <th>Volume_(Currency)</th>\n",
       "      <th>Weighted_Price</th>\n",
       "    </tr>\n",
       "  </thead>\n",
       "  <tbody>\n",
       "    <tr>\n",
       "      <th>0</th>\n",
       "      <td>1417411980</td>\n",
       "      <td>300.00</td>\n",
       "      <td>300.00</td>\n",
       "      <td>300.00</td>\n",
       "      <td>300.00</td>\n",
       "      <td>0.010000</td>\n",
       "      <td>3.000000</td>\n",
       "      <td>300.000000</td>\n",
       "    </tr>\n",
       "    <tr>\n",
       "      <th>1</th>\n",
       "      <td>1417412040</td>\n",
       "      <td>300.00</td>\n",
       "      <td>300.00</td>\n",
       "      <td>300.00</td>\n",
       "      <td>300.00</td>\n",
       "      <td>0.010000</td>\n",
       "      <td>3.000000</td>\n",
       "      <td>300.000000</td>\n",
       "    </tr>\n",
       "    <tr>\n",
       "      <th>2</th>\n",
       "      <td>1417412100</td>\n",
       "      <td>300.00</td>\n",
       "      <td>300.00</td>\n",
       "      <td>300.00</td>\n",
       "      <td>300.00</td>\n",
       "      <td>0.010000</td>\n",
       "      <td>3.000000</td>\n",
       "      <td>300.000000</td>\n",
       "    </tr>\n",
       "    <tr>\n",
       "      <th>3</th>\n",
       "      <td>1417412160</td>\n",
       "      <td>300.00</td>\n",
       "      <td>300.00</td>\n",
       "      <td>300.00</td>\n",
       "      <td>300.00</td>\n",
       "      <td>0.010000</td>\n",
       "      <td>3.000000</td>\n",
       "      <td>300.000000</td>\n",
       "    </tr>\n",
       "    <tr>\n",
       "      <th>4</th>\n",
       "      <td>1417412220</td>\n",
       "      <td>300.00</td>\n",
       "      <td>300.00</td>\n",
       "      <td>300.00</td>\n",
       "      <td>300.00</td>\n",
       "      <td>0.010000</td>\n",
       "      <td>3.000000</td>\n",
       "      <td>300.000000</td>\n",
       "    </tr>\n",
       "    <tr>\n",
       "      <th>...</th>\n",
       "      <td>...</td>\n",
       "      <td>...</td>\n",
       "      <td>...</td>\n",
       "      <td>...</td>\n",
       "      <td>...</td>\n",
       "      <td>...</td>\n",
       "      <td>...</td>\n",
       "      <td>...</td>\n",
       "    </tr>\n",
       "    <tr>\n",
       "      <th>1574269</th>\n",
       "      <td>1515369360</td>\n",
       "      <td>16174.21</td>\n",
       "      <td>16174.23</td>\n",
       "      <td>16174.21</td>\n",
       "      <td>16174.23</td>\n",
       "      <td>7.594119</td>\n",
       "      <td>122828.956770</td>\n",
       "      <td>16174.221301</td>\n",
       "    </tr>\n",
       "    <tr>\n",
       "      <th>1574270</th>\n",
       "      <td>1515369420</td>\n",
       "      <td>16174.23</td>\n",
       "      <td>16174.23</td>\n",
       "      <td>16174.21</td>\n",
       "      <td>16174.22</td>\n",
       "      <td>11.902468</td>\n",
       "      <td>192513.150940</td>\n",
       "      <td>16174.221081</td>\n",
       "    </tr>\n",
       "    <tr>\n",
       "      <th>1574271</th>\n",
       "      <td>1515369480</td>\n",
       "      <td>16174.22</td>\n",
       "      <td>16174.22</td>\n",
       "      <td>16174.21</td>\n",
       "      <td>16174.21</td>\n",
       "      <td>3.860840</td>\n",
       "      <td>62446.073684</td>\n",
       "      <td>16174.218136</td>\n",
       "    </tr>\n",
       "    <tr>\n",
       "      <th>1574272</th>\n",
       "      <td>1515369540</td>\n",
       "      <td>16174.22</td>\n",
       "      <td>16174.22</td>\n",
       "      <td>16174.21</td>\n",
       "      <td>16174.22</td>\n",
       "      <td>1.179093</td>\n",
       "      <td>19070.914509</td>\n",
       "      <td>16174.219514</td>\n",
       "    </tr>\n",
       "    <tr>\n",
       "      <th>1574273</th>\n",
       "      <td>1515369600</td>\n",
       "      <td>16174.22</td>\n",
       "      <td>16174.23</td>\n",
       "      <td>16174.22</td>\n",
       "      <td>16174.22</td>\n",
       "      <td>5.401224</td>\n",
       "      <td>87360.593222</td>\n",
       "      <td>16174.220219</td>\n",
       "    </tr>\n",
       "  </tbody>\n",
       "</table>\n",
       "<p>1574274 rows × 8 columns</p>\n",
       "</div>"
      ],
      "text/plain": [
       "          Timestamp      Open      High       Low     Close  Volume_(BTC)  \\\n",
       "0        1417411980    300.00    300.00    300.00    300.00      0.010000   \n",
       "1        1417412040    300.00    300.00    300.00    300.00      0.010000   \n",
       "2        1417412100    300.00    300.00    300.00    300.00      0.010000   \n",
       "3        1417412160    300.00    300.00    300.00    300.00      0.010000   \n",
       "4        1417412220    300.00    300.00    300.00    300.00      0.010000   \n",
       "...             ...       ...       ...       ...       ...           ...   \n",
       "1574269  1515369360  16174.21  16174.23  16174.21  16174.23      7.594119   \n",
       "1574270  1515369420  16174.23  16174.23  16174.21  16174.22     11.902468   \n",
       "1574271  1515369480  16174.22  16174.22  16174.21  16174.21      3.860840   \n",
       "1574272  1515369540  16174.22  16174.22  16174.21  16174.22      1.179093   \n",
       "1574273  1515369600  16174.22  16174.23  16174.22  16174.22      5.401224   \n",
       "\n",
       "         Volume_(Currency)  Weighted_Price  \n",
       "0                 3.000000      300.000000  \n",
       "1                 3.000000      300.000000  \n",
       "2                 3.000000      300.000000  \n",
       "3                 3.000000      300.000000  \n",
       "4                 3.000000      300.000000  \n",
       "...                    ...             ...  \n",
       "1574269      122828.956770    16174.221301  \n",
       "1574270      192513.150940    16174.221081  \n",
       "1574271       62446.073684    16174.218136  \n",
       "1574272       19070.914509    16174.219514  \n",
       "1574273       87360.593222    16174.220219  \n",
       "\n",
       "[1574274 rows x 8 columns]"
      ]
     },
     "execution_count": 35,
     "metadata": {},
     "output_type": "execute_result"
    }
   ],
   "source": [
    "%%time\n",
    "# Resampling data from minute interval to day\n",
    "bit_df = pd.read_csv('coinbaseUSD_1-min_data_2014-12-01_to_2018-01-08.csv')\n",
    "bit_df"
   ]
  },
  {
   "cell_type": "code",
   "execution_count": 36,
   "metadata": {},
   "outputs": [
    {
     "name": "stdout",
     "output_type": "stream",
     "text": [
      "Wall time: 302 ms\n"
     ]
    }
   ],
   "source": [
    "%%time\n",
    "# Convert unix time to datetime\n",
    "bit_df['date'] = pd.to_datetime(bit_df.Timestamp, unit='s')\n",
    "\n",
    "# Reset index\n",
    "bit_df = bit_df.set_index('date')\n",
    "\n",
    "# Rename columns so easier to code\n",
    "bit_df = bit_df.rename(columns={'Open':'open', 'High': 'hi', 'Low': 'lo', \n",
    "                       'Close': 'close', 'Volume_(BTC)': 'vol_btc',\n",
    "                       'Volume_(Currency)': 'vol_cur', \n",
    "                       'Weighted_Price': 'wp', 'Timestamp': 'ts'})\n",
    "# Resample and only use recent samples that aren't missing\n",
    "bit_df = bit_df.resample('d').agg({'open': 'first', 'hi': 'max', \n",
    "    'lo': 'min', 'close': 'last', 'vol_btc': 'sum',\n",
    "    'vol_cur': 'sum', 'wp': 'mean', 'ts': 'min'}).iloc[-1000:]\n",
    "# drop last row as it is not complete\n",
    "bit_df = bit_df.iloc[:-1]"
   ]
  },
  {
   "cell_type": "code",
   "execution_count": 37,
   "metadata": {
    "scrolled": true
   },
   "outputs": [
    {
     "data": {
      "text/html": [
       "<div>\n",
       "<style scoped>\n",
       "    .dataframe tbody tr th:only-of-type {\n",
       "        vertical-align: middle;\n",
       "    }\n",
       "\n",
       "    .dataframe tbody tr th {\n",
       "        vertical-align: top;\n",
       "    }\n",
       "\n",
       "    .dataframe thead th {\n",
       "        text-align: right;\n",
       "    }\n",
       "</style>\n",
       "<table border=\"1\" class=\"dataframe\">\n",
       "  <thead>\n",
       "    <tr style=\"text-align: right;\">\n",
       "      <th></th>\n",
       "      <th>open</th>\n",
       "      <th>hi</th>\n",
       "      <th>lo</th>\n",
       "      <th>close</th>\n",
       "      <th>vol_btc</th>\n",
       "      <th>vol_cur</th>\n",
       "      <th>wp</th>\n",
       "      <th>ts</th>\n",
       "    </tr>\n",
       "    <tr>\n",
       "      <th>date</th>\n",
       "      <th></th>\n",
       "      <th></th>\n",
       "      <th></th>\n",
       "      <th></th>\n",
       "      <th></th>\n",
       "      <th></th>\n",
       "      <th></th>\n",
       "      <th></th>\n",
       "    </tr>\n",
       "  </thead>\n",
       "  <tbody>\n",
       "    <tr>\n",
       "      <th>2015-04-15</th>\n",
       "      <td>221.05</td>\n",
       "      <td>224.52</td>\n",
       "      <td>218.09</td>\n",
       "      <td>224.35</td>\n",
       "      <td>9137.584626</td>\n",
       "      <td>2.029524e+06</td>\n",
       "      <td>222.270771</td>\n",
       "      <td>1.429056e+09</td>\n",
       "    </tr>\n",
       "    <tr>\n",
       "      <th>2015-04-16</th>\n",
       "      <td>224.35</td>\n",
       "      <td>230.75</td>\n",
       "      <td>223.66</td>\n",
       "      <td>229.45</td>\n",
       "      <td>8636.837666</td>\n",
       "      <td>1.970069e+06</td>\n",
       "      <td>227.779413</td>\n",
       "      <td>1.429142e+09</td>\n",
       "    </tr>\n",
       "    <tr>\n",
       "      <th>2015-04-17</th>\n",
       "      <td>229.45</td>\n",
       "      <td>230.08</td>\n",
       "      <td>220.46</td>\n",
       "      <td>223.62</td>\n",
       "      <td>7738.360003</td>\n",
       "      <td>1.741497e+06</td>\n",
       "      <td>224.970863</td>\n",
       "      <td>1.429229e+09</td>\n",
       "    </tr>\n",
       "    <tr>\n",
       "      <th>2015-04-18</th>\n",
       "      <td>223.55</td>\n",
       "      <td>224.04</td>\n",
       "      <td>222.18</td>\n",
       "      <td>224.02</td>\n",
       "      <td>5065.649127</td>\n",
       "      <td>1.131269e+06</td>\n",
       "      <td>223.398170</td>\n",
       "      <td>1.429315e+09</td>\n",
       "    </tr>\n",
       "    <tr>\n",
       "      <th>2015-04-19</th>\n",
       "      <td>224.02</td>\n",
       "      <td>226.72</td>\n",
       "      <td>223.44</td>\n",
       "      <td>224.03</td>\n",
       "      <td>5279.787312</td>\n",
       "      <td>1.185860e+06</td>\n",
       "      <td>224.667792</td>\n",
       "      <td>1.429402e+09</td>\n",
       "    </tr>\n",
       "    <tr>\n",
       "      <th>...</th>\n",
       "      <td>...</td>\n",
       "      <td>...</td>\n",
       "      <td>...</td>\n",
       "      <td>...</td>\n",
       "      <td>...</td>\n",
       "      <td>...</td>\n",
       "      <td>...</td>\n",
       "      <td>...</td>\n",
       "    </tr>\n",
       "    <tr>\n",
       "      <th>2018-01-03</th>\n",
       "      <td>14781.52</td>\n",
       "      <td>15400.00</td>\n",
       "      <td>14628.00</td>\n",
       "      <td>15098.14</td>\n",
       "      <td>17616.327677</td>\n",
       "      <td>2.642264e+08</td>\n",
       "      <td>14989.939350</td>\n",
       "      <td>1.514938e+09</td>\n",
       "    </tr>\n",
       "    <tr>\n",
       "      <th>2018-01-04</th>\n",
       "      <td>15098.23</td>\n",
       "      <td>15400.00</td>\n",
       "      <td>14230.00</td>\n",
       "      <td>15144.99</td>\n",
       "      <td>19567.016783</td>\n",
       "      <td>2.909045e+08</td>\n",
       "      <td>14851.477880</td>\n",
       "      <td>1.515024e+09</td>\n",
       "    </tr>\n",
       "    <tr>\n",
       "      <th>2018-01-05</th>\n",
       "      <td>15145.00</td>\n",
       "      <td>17178.00</td>\n",
       "      <td>14819.78</td>\n",
       "      <td>16960.01</td>\n",
       "      <td>22588.046307</td>\n",
       "      <td>3.619888e+08</td>\n",
       "      <td>15796.596968</td>\n",
       "      <td>1.515110e+09</td>\n",
       "    </tr>\n",
       "    <tr>\n",
       "      <th>2018-01-06</th>\n",
       "      <td>16960.01</td>\n",
       "      <td>17174.00</td>\n",
       "      <td>16251.01</td>\n",
       "      <td>17098.99</td>\n",
       "      <td>13744.804428</td>\n",
       "      <td>2.296885e+08</td>\n",
       "      <td>16661.988247</td>\n",
       "      <td>1.515197e+09</td>\n",
       "    </tr>\n",
       "    <tr>\n",
       "      <th>2018-01-07</th>\n",
       "      <td>17099.00</td>\n",
       "      <td>17115.01</td>\n",
       "      <td>15755.01</td>\n",
       "      <td>16174.22</td>\n",
       "      <td>12201.377159</td>\n",
       "      <td>2.002825e+08</td>\n",
       "      <td>16526.973583</td>\n",
       "      <td>1.515283e+09</td>\n",
       "    </tr>\n",
       "  </tbody>\n",
       "</table>\n",
       "<p>999 rows × 8 columns</p>\n",
       "</div>"
      ],
      "text/plain": [
       "                open        hi        lo     close       vol_btc  \\\n",
       "date                                                               \n",
       "2015-04-15    221.05    224.52    218.09    224.35   9137.584626   \n",
       "2015-04-16    224.35    230.75    223.66    229.45   8636.837666   \n",
       "2015-04-17    229.45    230.08    220.46    223.62   7738.360003   \n",
       "2015-04-18    223.55    224.04    222.18    224.02   5065.649127   \n",
       "2015-04-19    224.02    226.72    223.44    224.03   5279.787312   \n",
       "...              ...       ...       ...       ...           ...   \n",
       "2018-01-03  14781.52  15400.00  14628.00  15098.14  17616.327677   \n",
       "2018-01-04  15098.23  15400.00  14230.00  15144.99  19567.016783   \n",
       "2018-01-05  15145.00  17178.00  14819.78  16960.01  22588.046307   \n",
       "2018-01-06  16960.01  17174.00  16251.01  17098.99  13744.804428   \n",
       "2018-01-07  17099.00  17115.01  15755.01  16174.22  12201.377159   \n",
       "\n",
       "                 vol_cur            wp            ts  \n",
       "date                                                  \n",
       "2015-04-15  2.029524e+06    222.270771  1.429056e+09  \n",
       "2015-04-16  1.970069e+06    227.779413  1.429142e+09  \n",
       "2015-04-17  1.741497e+06    224.970863  1.429229e+09  \n",
       "2015-04-18  1.131269e+06    223.398170  1.429315e+09  \n",
       "2015-04-19  1.185860e+06    224.667792  1.429402e+09  \n",
       "...                  ...           ...           ...  \n",
       "2018-01-03  2.642264e+08  14989.939350  1.514938e+09  \n",
       "2018-01-04  2.909045e+08  14851.477880  1.515024e+09  \n",
       "2018-01-05  3.619888e+08  15796.596968  1.515110e+09  \n",
       "2018-01-06  2.296885e+08  16661.988247  1.515197e+09  \n",
       "2018-01-07  2.002825e+08  16526.973583  1.515283e+09  \n",
       "\n",
       "[999 rows x 8 columns]"
      ]
     },
     "execution_count": 37,
     "metadata": {},
     "output_type": "execute_result"
    }
   ],
   "source": [
    "bit_df"
   ]
  },
  {
   "cell_type": "markdown",
   "metadata": {},
   "source": [
    "## Predict tomorrow's close based on today's info?\n",
    "We will use a row of data for input. We will call the input X and the prediction y. This is called \"supervised learning\" as we will feed in both X and y to train the model.\n",
    "\n",
    "This performs better if we *standardize* the data.\n",
    "\n",
    "Predict the open price from the ts component."
   ]
  },
  {
   "cell_type": "code",
   "execution_count": 38,
   "metadata": {},
   "outputs": [
    {
     "name": "stdout",
     "output_type": "stream",
     "text": [
      "<class 'pandas.core.frame.DataFrame'>\n",
      "DatetimeIndex: 999 entries, 2015-04-15 to 2018-01-07\n",
      "Freq: D\n",
      "Data columns (total 8 columns):\n",
      " #   Column   Non-Null Count  Dtype  \n",
      "---  ------   --------------  -----  \n",
      " 0   open     999 non-null    float64\n",
      " 1   hi       999 non-null    float64\n",
      " 2   lo       999 non-null    float64\n",
      " 3   close    999 non-null    float64\n",
      " 4   vol_btc  999 non-null    float64\n",
      " 5   vol_cur  999 non-null    float64\n",
      " 6   wp       999 non-null    float64\n",
      " 7   ts       999 non-null    float64\n",
      "dtypes: float64(8)\n",
      "memory usage: 70.2 KB\n"
     ]
    }
   ],
   "source": [
    "bit_df.info()"
   ]
  },
  {
   "cell_type": "markdown",
   "metadata": {},
   "source": [
    "### Visualizing the price vs time graph\n",
    "Weighted price is the average price of an asset over a set period of time, weighted by volume. It is a useful indicator to eliminate noise in price movements for a given timespan."
   ]
  },
  {
   "cell_type": "code",
   "execution_count": 39,
   "metadata": {},
   "outputs": [
    {
     "data": {
      "text/plain": [
       "<AxesSubplot:xlabel='Timespan', ylabel='Weighted Price'>"
      ]
     },
     "execution_count": 39,
     "metadata": {},
     "output_type": "execute_result"
    },
    {
     "data": {
      "image/png": "[encoded data removed]",
      "text/plain": [
       "<Figure size 432x288 with 1 Axes>"
      ]
     },
     "metadata": {
      "needs_background": "light"
     },
     "output_type": "display_data"
    }
   ],
   "source": [
    "bit_df.plot(kind=\"line\", x=\"ts\", y=\"wp\", alpha=0.8, xlabel=\"Timespan\", ylabel=\"Weighted Price\")"
   ]
  },
  {
   "cell_type": "markdown",
   "metadata": {},
   "source": [
    "### Correlations"
   ]
  },
  {
   "cell_type": "code",
   "execution_count": 40,
   "metadata": {},
   "outputs": [
    {
     "data": {
      "text/plain": [
       "open       1.000000\n",
       "wp         0.998800\n",
       "hi         0.997562\n",
       "close      0.997140\n",
       "lo         0.996579\n",
       "vol_cur    0.836192\n",
       "ts         0.650204\n",
       "vol_btc    0.526337\n",
       "Name: open, dtype: float64"
      ]
     },
     "execution_count": 40,
     "metadata": {},
     "output_type": "execute_result"
    }
   ],
   "source": [
    "# to see the correlation of various features with the price\n",
    "corr_matrix = bit_df.corr()\n",
    "corr_matrix['open'].sort_values(ascending=False)"
   ]
  },
  {
   "cell_type": "markdown",
   "metadata": {},
   "source": [
    "### Train-test split of the given dataset"
   ]
  },
  {
   "cell_type": "code",
   "execution_count": 41,
   "metadata": {},
   "outputs": [
    {
     "name": "stdout",
     "output_type": "stream",
     "text": [
      "Rows in train set: 799\n",
      "Rows in test set: 200\n",
      "\n"
     ]
    }
   ],
   "source": [
    "# train-test split of dataset in 80:20 ratio\n",
    "train_set, test_set  = train_test_split(bit_df, test_size=0.2, random_state=42)\n",
    "\n",
    "# print the amount of data in each set\n",
    "print(f\"Rows in train set: {len(train_set)}\\nRows in test set: {len(test_set)}\\n\")"
   ]
  },
  {
   "cell_type": "code",
   "execution_count": 42,
   "metadata": {},
   "outputs": [],
   "source": [
    "# separate training and test dataset and target variable\n",
    "bit_trainer = train_set.drop(\"close\", axis=1)\n",
    "bit_trainer_labels = train_set[\"close\"].copy()"
   ]
  },
  {
   "cell_type": "code",
   "execution_count": 43,
   "metadata": {},
   "outputs": [
    {
     "data": {
      "text/html": [
       "<div>\n",
       "<style scoped>\n",
       "    .dataframe tbody tr th:only-of-type {\n",
       "        vertical-align: middle;\n",
       "    }\n",
       "\n",
       "    .dataframe tbody tr th {\n",
       "        vertical-align: top;\n",
       "    }\n",
       "\n",
       "    .dataframe thead th {\n",
       "        text-align: right;\n",
       "    }\n",
       "</style>\n",
       "<table border=\"1\" class=\"dataframe\">\n",
       "  <thead>\n",
       "    <tr style=\"text-align: right;\">\n",
       "      <th></th>\n",
       "      <th>open</th>\n",
       "      <th>hi</th>\n",
       "      <th>lo</th>\n",
       "      <th>vol_btc</th>\n",
       "      <th>vol_cur</th>\n",
       "      <th>wp</th>\n",
       "      <th>ts</th>\n",
       "    </tr>\n",
       "    <tr>\n",
       "      <th>date</th>\n",
       "      <th></th>\n",
       "      <th></th>\n",
       "      <th></th>\n",
       "      <th></th>\n",
       "      <th></th>\n",
       "      <th></th>\n",
       "      <th></th>\n",
       "    </tr>\n",
       "  </thead>\n",
       "  <tbody>\n",
       "    <tr>\n",
       "      <th>2017-06-01</th>\n",
       "      <td>2303.61</td>\n",
       "      <td>2488.00</td>\n",
       "      <td>2302.00</td>\n",
       "      <td>21390.335043</td>\n",
       "      <td>5.133552e+07</td>\n",
       "      <td>2404.708652</td>\n",
       "      <td>1.496275e+09</td>\n",
       "    </tr>\n",
       "    <tr>\n",
       "      <th>2016-01-26</th>\n",
       "      <td>391.40</td>\n",
       "      <td>397.00</td>\n",
       "      <td>387.78</td>\n",
       "      <td>7307.824138</td>\n",
       "      <td>2.871685e+06</td>\n",
       "      <td>393.201605</td>\n",
       "      <td>1.453766e+09</td>\n",
       "    </tr>\n",
       "    <tr>\n",
       "      <th>2015-09-27</th>\n",
       "      <td>234.67</td>\n",
       "      <td>235.03</td>\n",
       "      <td>233.20</td>\n",
       "      <td>3969.849381</td>\n",
       "      <td>9.286271e+05</td>\n",
       "      <td>234.045693</td>\n",
       "      <td>1.443312e+09</td>\n",
       "    </tr>\n",
       "    <tr>\n",
       "      <th>2017-11-30</th>\n",
       "      <td>9920.81</td>\n",
       "      <td>10850.00</td>\n",
       "      <td>9135.60</td>\n",
       "      <td>39976.735392</td>\n",
       "      <td>3.973819e+08</td>\n",
       "      <td>10005.687826</td>\n",
       "      <td>1.512000e+09</td>\n",
       "    </tr>\n",
       "    <tr>\n",
       "      <th>2016-08-20</th>\n",
       "      <td>573.68</td>\n",
       "      <td>583.92</td>\n",
       "      <td>572.38</td>\n",
       "      <td>3689.790091</td>\n",
       "      <td>2.134917e+06</td>\n",
       "      <td>578.354288</td>\n",
       "      <td>1.471651e+09</td>\n",
       "    </tr>\n",
       "    <tr>\n",
       "      <th>...</th>\n",
       "      <td>...</td>\n",
       "      <td>...</td>\n",
       "      <td>...</td>\n",
       "      <td>...</td>\n",
       "      <td>...</td>\n",
       "      <td>...</td>\n",
       "      <td>...</td>\n",
       "    </tr>\n",
       "    <tr>\n",
       "      <th>2015-07-30</th>\n",
       "      <td>290.26</td>\n",
       "      <td>291.56</td>\n",
       "      <td>286.56</td>\n",
       "      <td>5502.373380</td>\n",
       "      <td>1.588231e+06</td>\n",
       "      <td>288.596448</td>\n",
       "      <td>1.438214e+09</td>\n",
       "    </tr>\n",
       "    <tr>\n",
       "      <th>2016-01-10</th>\n",
       "      <td>450.39</td>\n",
       "      <td>451.39</td>\n",
       "      <td>442.96</td>\n",
       "      <td>4151.636617</td>\n",
       "      <td>1.855103e+06</td>\n",
       "      <td>446.769576</td>\n",
       "      <td>1.452384e+09</td>\n",
       "    </tr>\n",
       "    <tr>\n",
       "      <th>2017-08-22</th>\n",
       "      <td>4002.00</td>\n",
       "      <td>4145.00</td>\n",
       "      <td>3583.46</td>\n",
       "      <td>21922.497310</td>\n",
       "      <td>8.557921e+07</td>\n",
       "      <td>3934.691782</td>\n",
       "      <td>1.503360e+09</td>\n",
       "    </tr>\n",
       "    <tr>\n",
       "      <th>2016-06-23</th>\n",
       "      <td>606.13</td>\n",
       "      <td>637.89</td>\n",
       "      <td>544.13</td>\n",
       "      <td>20475.500409</td>\n",
       "      <td>1.222178e+07</td>\n",
       "      <td>597.496433</td>\n",
       "      <td>1.466640e+09</td>\n",
       "    </tr>\n",
       "    <tr>\n",
       "      <th>2015-07-26</th>\n",
       "      <td>289.68</td>\n",
       "      <td>294.49</td>\n",
       "      <td>288.65</td>\n",
       "      <td>4107.891588</td>\n",
       "      <td>1.199512e+06</td>\n",
       "      <td>291.396840</td>\n",
       "      <td>1.437869e+09</td>\n",
       "    </tr>\n",
       "  </tbody>\n",
       "</table>\n",
       "<p>799 rows × 7 columns</p>\n",
       "</div>"
      ],
      "text/plain": [
       "               open        hi       lo       vol_btc       vol_cur  \\\n",
       "date                                                                 \n",
       "2017-06-01  2303.61   2488.00  2302.00  21390.335043  5.133552e+07   \n",
       "2016-01-26   391.40    397.00   387.78   7307.824138  2.871685e+06   \n",
       "2015-09-27   234.67    235.03   233.20   3969.849381  9.286271e+05   \n",
       "2017-11-30  9920.81  10850.00  9135.60  39976.735392  3.973819e+08   \n",
       "2016-08-20   573.68    583.92   572.38   3689.790091  2.134917e+06   \n",
       "...             ...       ...      ...           ...           ...   \n",
       "2015-07-30   290.26    291.56   286.56   5502.373380  1.588231e+06   \n",
       "2016-01-10   450.39    451.39   442.96   4151.636617  1.855103e+06   \n",
       "2017-08-22  4002.00   4145.00  3583.46  21922.497310  8.557921e+07   \n",
       "2016-06-23   606.13    637.89   544.13  20475.500409  1.222178e+07   \n",
       "2015-07-26   289.68    294.49   288.65   4107.891588  1.199512e+06   \n",
       "\n",
       "                      wp            ts  \n",
       "date                                    \n",
       "2017-06-01   2404.708652  1.496275e+09  \n",
       "2016-01-26    393.201605  1.453766e+09  \n",
       "2015-09-27    234.045693  1.443312e+09  \n",
       "2017-11-30  10005.687826  1.512000e+09  \n",
       "2016-08-20    578.354288  1.471651e+09  \n",
       "...                  ...           ...  \n",
       "2015-07-30    288.596448  1.438214e+09  \n",
       "2016-01-10    446.769576  1.452384e+09  \n",
       "2017-08-22   3934.691782  1.503360e+09  \n",
       "2016-06-23    597.496433  1.466640e+09  \n",
       "2015-07-26    291.396840  1.437869e+09  \n",
       "\n",
       "[799 rows x 7 columns]"
      ]
     },
     "execution_count": 43,
     "metadata": {},
     "output_type": "execute_result"
    }
   ],
   "source": [
    "bit_trainer"
   ]
  },
  {
   "cell_type": "code",
   "execution_count": 44,
   "metadata": {},
   "outputs": [
    {
     "data": {
      "text/plain": [
       "date\n",
       "2017-06-01    2419.99\n",
       "2016-01-26     391.54\n",
       "2015-09-27     233.58\n",
       "2017-11-30    9903.00\n",
       "2016-08-20     581.87\n",
       "               ...   \n",
       "2015-07-30     288.49\n",
       "2016-01-10     449.99\n",
       "2017-08-22    4092.00\n",
       "2016-06-23     631.10\n",
       "2015-07-26     293.89\n",
       "Name: close, Length: 799, dtype: float64"
      ]
     },
     "execution_count": 44,
     "metadata": {},
     "output_type": "execute_result"
    }
   ],
   "source": [
    "bit_trainer_labels"
   ]
  },
  {
   "cell_type": "markdown",
   "metadata": {},
   "source": [
    "### Using Standardization via pipeline.\n",
    "((value - mean)/std)- Sklearn provides a class called StandardScaler for this."
   ]
  },
  {
   "cell_type": "code",
   "execution_count": 45,
   "metadata": {},
   "outputs": [],
   "source": [
    "bit_pipeline = Pipeline([\n",
    "    ('std_scaler', StandardScaler()),\n",
    "])\n",
    "\n",
    "std_bit_trainer = bit_pipeline.fit_transform(bit_trainer)"
   ]
  },
  {
   "cell_type": "code",
   "execution_count": 46,
   "metadata": {},
   "outputs": [
    {
     "data": {
      "text/plain": [
       "(799, 7)"
      ]
     },
     "execution_count": 46,
     "metadata": {},
     "output_type": "execute_result"
    }
   ],
   "source": [
    "std_bit_trainer.shape"
   ]
  },
  {
   "cell_type": "markdown",
   "metadata": {},
   "source": [
    "### Linear Regression and RandomForest Regression"
   ]
  },
  {
   "cell_type": "code",
   "execution_count": 47,
   "metadata": {},
   "outputs": [
    {
     "data": {
      "text/plain": [
       "LinearRegression()"
      ]
     },
     "execution_count": 47,
     "metadata": {},
     "output_type": "execute_result"
    }
   ],
   "source": [
    "# selecting a regression model (Linear regression and RandomForest Regression)\n",
    "model = LinearRegression()\n",
    "# model = RandomForestRegressor()\n",
    "\n",
    "model.fit(std_bit_trainer, bit_trainer_labels)"
   ]
  },
  {
   "cell_type": "markdown",
   "metadata": {},
   "source": [
    "### Evaluating the model on training data"
   ]
  },
  {
   "cell_type": "code",
   "execution_count": 48,
   "metadata": {},
   "outputs": [],
   "source": [
    "# testing on small data - 5 sample rows\n",
    "short_data = bit_trainer.iloc[:5]\n",
    "short_labels = bit_trainer_labels.iloc[:5]\n",
    "\n",
    "# passing the data through pipeline\n",
    "piped_data = bit_pipeline.transform(short_data)"
   ]
  },
  {
   "cell_type": "code",
   "execution_count": 53,
   "metadata": {},
   "outputs": [
    {
     "data": {
      "text/plain": [
       "array([ 2429.83122604,   394.31060988,   238.4597271 , 10236.70245263,\n",
       "         583.98256229])"
      ]
     },
     "execution_count": 53,
     "metadata": {},
     "output_type": "execute_result"
    }
   ],
   "source": [
    "# predicting the prices for piped_data\n",
    "model.predict(piped_data)"
   ]
  },
  {
   "cell_type": "code",
   "execution_count": 54,
   "metadata": {},
   "outputs": [
    {
     "data": {
      "text/plain": [
       "[2419.99, 391.54, 233.58, 9903.0, 581.87]"
      ]
     },
     "execution_count": 54,
     "metadata": {},
     "output_type": "execute_result"
    }
   ],
   "source": [
    "# list actual prices for the 5 taken rows\n",
    "list(short_labels)"
   ]
  },
  {
   "cell_type": "markdown",
   "metadata": {},
   "source": [
    "### Model Score"
   ]
  },
  {
   "cell_type": "code",
   "execution_count": 56,
   "metadata": {},
   "outputs": [
    {
     "data": {
      "text/plain": [
       "0.9983570597901493"
      ]
     },
     "execution_count": 56,
     "metadata": {},
     "output_type": "execute_result"
    }
   ],
   "source": [
    "# Checking the score of the model\n",
    "model.score(piped_data, short_labels)"
   ]
  },
  {
   "cell_type": "markdown",
   "metadata": {},
   "source": [
    "### Predicting for the Test dataset"
   ]
  },
  {
   "cell_type": "code",
   "execution_count": 57,
   "metadata": {},
   "outputs": [],
   "source": [
    "# predicting the price for the test dataset\n",
    "X_test = test_set.drop(\"close\", axis=1)\n",
    "Y_test = test_set[\"close\"].copy()\n",
    "\n",
    "# passing the data through pipeline for standardization\n",
    "X_test_piped = bit_pipeline.transform(X_test)\n",
    "final_predictions = model.predict(X_test_piped)"
   ]
  },
  {
   "cell_type": "code",
   "execution_count": 59,
   "metadata": {},
   "outputs": [
    {
     "name": "stdout",
     "output_type": "stream",
     "text": [
      "[  657.59375797  2431.41566114   346.50475893   422.150468\n",
      "  1255.15199685   698.86748731  3909.9011167    639.43812717\n",
      "   670.13249489  1114.37157637  7517.57268023   903.52220957\n",
      "  4303.10626694   771.3563875   1145.57330561   244.70909364\n",
      "  2127.80421968   653.58023767   459.60409595   373.34120511\n",
      "   707.69870071   469.48999047  4117.37809377  4015.48373053\n",
      "  4419.34552164   235.42099939   240.22025294   446.17475485\n",
      "  2538.03338109   416.71083163   742.83008841   435.32960547\n",
      "   950.24353267   623.53986638   927.08820314  1186.51662001\n",
      "   237.31903396   321.81340104  1021.17716548   773.67510526\n",
      "  2945.23125821   456.82013929  7156.01666104   693.29966698\n",
      "   314.19500924   720.27152932   433.07834367  1251.71017653\n",
      "   260.63002387  4860.75677526   936.1456297    600.29643352\n",
      "  8156.64728824   242.29328446   236.64812773   407.74141765\n",
      "   233.1743855    615.35577478   618.18451479  1230.27025096\n",
      "   228.77019115  1078.58081936  4652.34242213   628.69325506\n",
      "  1041.48798243   441.77284778   593.36751081   931.01049544\n",
      "   428.97413701  3934.42390925   279.93437999   288.36826401\n",
      "   905.46201403   242.43871333   611.17809399  5727.72643162\n",
      "   244.59134253  1038.37089617   614.30343469 16850.17453774\n",
      "   246.96934194   653.0213278    248.52259249  4246.46115222\n",
      "   418.61649184   659.90215492   923.64230138   625.96104693\n",
      "   642.01741885   590.85612576   429.23099856   677.05200951\n",
      "  1912.59200036   609.99436281  2704.33903403   304.47728235\n",
      "   252.0112455   2289.15704657   875.37240196  3205.91944866\n",
      "   770.59322821   736.48098418   328.06158578 16968.62790165\n",
      "   600.91305648  9915.87426817  2543.04349297   636.74921027\n",
      "  8158.99485085  1264.85368279 14164.05274901   228.99487467\n",
      "   278.51996119   382.83888328   403.08009933   403.6273384\n",
      "   608.84827275   412.91202488  1191.27199795   389.73008834\n",
      "   461.74956173   431.64668285  2619.35995329  3741.82272265\n",
      "  2673.67767077  6115.48270447   234.60753754   374.85578552\n",
      "   422.49953124  3402.19661541   535.17527272 15147.01395492\n",
      "   608.71092072   231.96091116   267.729241    2126.42102702\n",
      "   245.1551262    242.82078728   238.00602172  7824.16246332\n",
      "   743.97558332   399.18572923   370.1134073    331.86909221\n",
      "   261.66771291  2349.85184866   418.57837368  2767.47885015\n",
      "   380.83374893  1945.59991822   376.04711958  6957.2801718\n",
      "   439.93812274  2268.13453602   386.59975427   238.46532906\n",
      "   885.33433894   735.3406228    661.83505561   457.05312591\n",
      "  1247.56216622   737.38831038   609.96941421  1187.79405678\n",
      "   433.09146181  5687.41752663   736.89663737   432.40696793\n",
      "   306.62113953   286.58893922   660.15260203  4289.15396463\n",
      "  1124.72223646  5669.42213226  1279.346023    2831.46997577\n",
      "  4382.78548108   652.24090207  1802.39595944   658.15183802\n",
      "   336.18402881   233.24751499  2679.17514708   428.32192665\n",
      "   327.20311388  4575.46783592   413.64136985   631.18453321\n",
      "  5864.99637552  2715.91261883  4810.09568241  2536.20184217\n",
      "   419.90315025   404.66236253   420.35104861   246.00325918\n",
      "   234.3945182    381.82872987   437.65415257   600.47887385] [650.97, 2480.43, 337.14, 421.19, 1257.29, 704.01, 3885.09, 642.12, 669.98, 1128.29, 7392.0, 902.66, 4384.99, 767.89, 1143.99, 240.04, 2235.19, 654.06, 456.98, 379.53, 706.99, 470.59, 4156.99, 4100.0, 4392.71, 233.47, 237.14, 442.22, 2542.41, 412.95, 742.69, 433.12, 960.81, 619.5, 925.2, 1197.3, 232.24, 329.11, 1016.32, 769.25, 2998.98, 458.82, 7126.63, 706.01, 314.85, 716.9, 430.87, 1249.99, 263.82, 4947.99, 923.33, 596.21, 8031.16, 244.54, 237.82, 412.21, 227.05, 613.16, 617.98, 1236.15, 229.1, 1089.82, 4626.05, 623.74, 1034.57, 442.96, 600.91, 963.72, 430.35, 3855.32, 280.0, 285.19, 887.0, 246.64, 607.92, 5819.13, 240.82, 1042.34, 611.4, 16749.78, 246.13, 649.98, 244.66, 4210.72, 417.68, 667.66, 910.7, 622.07, 641.97, 587.74, 426.32, 678.79, 1911.78, 606.74, 2725.08, 312.16, 250.25, 2308.15, 896.12, 3243.49, 767.99, 703.12, 323.71, 16689.61, 597.0, 9949.0, 2548.05, 638.03, 8109.0, 1273.97, 14221.94, 228.22, 286.67, 378.46, 398.95, 407.42, 605.99, 411.18, 1194.0, 387.55, 463.17, 427.95, 2664.99, 3787.33, 2679.99, 6124.16, 230.61, 371.33, 419.48, 3444.98, 532.55, 15098.14, 603.68, 229.18, 264.67, 2099.99, 241.57, 243.0, 236.89, 7714.71, 741.52, 418.54, 368.87, 326.41, 263.43, 2383.42, 416.03, 2786.07, 377.49, 1976.23, 371.14, 6577.62, 438.56, 2232.78, 384.5, 233.6, 887.99, 732.37, 673.49, 454.19, 1251.98, 735.7, 608.99, 1188.11, 433.08, 5754.9, 729.77, 433.73, 313.2, 280.95, 654.67, 4339.0, 1128.71, 5525.43, 1292.86, 2811.39, 4425.0, 677.86, 1799.99, 661.65, 334.71, 229.39, 2643.35, 427.8, 332.89, 4624.18, 409.38, 628.05, 5905.99, 2700.21, 4814.99, 2501.15, 419.39, 418.94, 416.97, 254.85, 237.46, 378.46, 435.66, 609.5]\n"
     ]
    }
   ],
   "source": [
    "# print final predictions and actual prices for the test dataset\n",
    "print(final_predictions, list(Y_test))"
   ]
  },
  {
   "cell_type": "markdown",
   "metadata": {},
   "source": [
    "### Model Score on Test dataset"
   ]
  },
  {
   "cell_type": "code",
   "execution_count": 60,
   "metadata": {},
   "outputs": [
    {
     "data": {
      "text/plain": [
       "0.9997265019294784"
      ]
     },
     "execution_count": 60,
     "metadata": {},
     "output_type": "execute_result"
    }
   ],
   "source": [
    "# checking the score for the test dataset\n",
    "model.score(X_test_piped, Y_test)"
   ]
  },
  {
   "cell_type": "markdown",
   "metadata": {},
   "source": [
    "### Creating a new dataframe for Predictions and Actual prices"
   ]
  },
  {
   "cell_type": "code",
   "execution_count": 73,
   "metadata": {},
   "outputs": [],
   "source": [
    "# creating a new dataframe for predictions on test dataset\n",
    "new_df = pd.DataFrame()\n",
    "new_df['time'] = X_test['ts']\n",
    "new_df['predicted'] = final_predictions\n",
    "new_df['actual'] = list(Y_test)"
   ]
  },
  {
   "cell_type": "code",
   "execution_count": 74,
   "metadata": {},
   "outputs": [
    {
     "data": {
      "text/html": [
       "<div>\n",
       "<style scoped>\n",
       "    .dataframe tbody tr th:only-of-type {\n",
       "        vertical-align: middle;\n",
       "    }\n",
       "\n",
       "    .dataframe tbody tr th {\n",
       "        vertical-align: top;\n",
       "    }\n",
       "\n",
       "    .dataframe thead th {\n",
       "        text-align: right;\n",
       "    }\n",
       "</style>\n",
       "<table border=\"1\" class=\"dataframe\">\n",
       "  <thead>\n",
       "    <tr style=\"text-align: right;\">\n",
       "      <th></th>\n",
       "      <th>time</th>\n",
       "      <th>predicted</th>\n",
       "      <th>actual</th>\n",
       "    </tr>\n",
       "    <tr>\n",
       "      <th>date</th>\n",
       "      <th></th>\n",
       "      <th></th>\n",
       "      <th></th>\n",
       "    </tr>\n",
       "  </thead>\n",
       "  <tbody>\n",
       "    <tr>\n",
       "      <th>2016-07-11</th>\n",
       "      <td>1.468195e+09</td>\n",
       "      <td>657.593758</td>\n",
       "      <td>650.97</td>\n",
       "    </tr>\n",
       "    <tr>\n",
       "      <th>2017-06-16</th>\n",
       "      <td>1.497571e+09</td>\n",
       "      <td>2431.415661</td>\n",
       "      <td>2480.43</td>\n",
       "    </tr>\n",
       "    <tr>\n",
       "      <th>2015-11-10</th>\n",
       "      <td>1.447114e+09</td>\n",
       "      <td>346.504759</td>\n",
       "      <td>337.14</td>\n",
       "    </tr>\n",
       "    <tr>\n",
       "      <th>2016-02-18</th>\n",
       "      <td>1.455754e+09</td>\n",
       "      <td>422.150468</td>\n",
       "      <td>421.19</td>\n",
       "    </tr>\n",
       "    <tr>\n",
       "      <th>2017-04-24</th>\n",
       "      <td>1.492992e+09</td>\n",
       "      <td>1255.151997</td>\n",
       "      <td>1257.29</td>\n",
       "    </tr>\n",
       "    <tr>\n",
       "      <th>...</th>\n",
       "      <td>...</td>\n",
       "      <td>...</td>\n",
       "      <td>...</td>\n",
       "    </tr>\n",
       "    <tr>\n",
       "      <th>2015-07-02</th>\n",
       "      <td>1.435795e+09</td>\n",
       "      <td>246.003259</td>\n",
       "      <td>254.85</td>\n",
       "    </tr>\n",
       "    <tr>\n",
       "      <th>2015-05-14</th>\n",
       "      <td>1.431562e+09</td>\n",
       "      <td>234.394518</td>\n",
       "      <td>237.46</td>\n",
       "    </tr>\n",
       "    <tr>\n",
       "      <th>2016-01-17</th>\n",
       "      <td>1.452989e+09</td>\n",
       "      <td>381.828730</td>\n",
       "      <td>378.46</td>\n",
       "    </tr>\n",
       "    <tr>\n",
       "      <th>2016-01-01</th>\n",
       "      <td>1.451606e+09</td>\n",
       "      <td>437.654153</td>\n",
       "      <td>435.66</td>\n",
       "    </tr>\n",
       "    <tr>\n",
       "      <th>2016-06-11</th>\n",
       "      <td>1.465603e+09</td>\n",
       "      <td>600.478874</td>\n",
       "      <td>609.50</td>\n",
       "    </tr>\n",
       "  </tbody>\n",
       "</table>\n",
       "<p>200 rows × 3 columns</p>\n",
       "</div>"
      ],
      "text/plain": [
       "                    time    predicted   actual\n",
       "date                                          \n",
       "2016-07-11  1.468195e+09   657.593758   650.97\n",
       "2017-06-16  1.497571e+09  2431.415661  2480.43\n",
       "2015-11-10  1.447114e+09   346.504759   337.14\n",
       "2016-02-18  1.455754e+09   422.150468   421.19\n",
       "2017-04-24  1.492992e+09  1255.151997  1257.29\n",
       "...                  ...          ...      ...\n",
       "2015-07-02  1.435795e+09   246.003259   254.85\n",
       "2015-05-14  1.431562e+09   234.394518   237.46\n",
       "2016-01-17  1.452989e+09   381.828730   378.46\n",
       "2016-01-01  1.451606e+09   437.654153   435.66\n",
       "2016-06-11  1.465603e+09   600.478874   609.50\n",
       "\n",
       "[200 rows x 3 columns]"
      ]
     },
     "execution_count": 74,
     "metadata": {},
     "output_type": "execute_result"
    }
   ],
   "source": [
    "new_df"
   ]
  },
  {
   "cell_type": "code",
   "execution_count": 75,
   "metadata": {},
   "outputs": [
    {
     "name": "stdout",
     "output_type": "stream",
     "text": [
      "<class 'pandas.core.frame.DataFrame'>\n",
      "DatetimeIndex: 200 entries, 2016-07-11 to 2016-06-11\n",
      "Data columns (total 3 columns):\n",
      " #   Column     Non-Null Count  Dtype  \n",
      "---  ------     --------------  -----  \n",
      " 0   time       200 non-null    float64\n",
      " 1   predicted  200 non-null    float64\n",
      " 2   actual     200 non-null    float64\n",
      "dtypes: float64(3)\n",
      "memory usage: 6.2 KB\n"
     ]
    }
   ],
   "source": [
    "new_df.info()"
   ]
  }
 ],
 "metadata": {
  "kernelspec": {
   "display_name": "Python 3",
   "language": "python",
   "name": "python3"
  },
  "language_info": {
   "codemirror_mode": {
    "name": "ipython",
    "version": 3
   },
   "file_extension": ".py",
   "mimetype": "text/x-python",
   "name": "python",
   "nbconvert_exporter": "python",
   "pygments_lexer": "ipython3",
   "version": "3.9.9"
  }
 },
 "nbformat": 4,
 "nbformat_minor": 2
}
